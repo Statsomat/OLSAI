{
  "nbformat": 4,
  "nbformat_minor": 0,
  "metadata": {
    "colab": {
      "provenance": []
    },
    "kernelspec": {
      "name": "python3",
      "display_name": "Python 3"
    },
    "language_info": {
      "name": "python"
    }
  },
  "cells": [
    {
      "cell_type": "code",
      "source": [],
      "metadata": {
        "id": "ZIilcQVl9Mqb"
      },
      "execution_count": null,
      "outputs": []
    },
    {
      "cell_type": "markdown",
      "source": [
        "Testdatei für Jupyter Notebook und Verwendung von GitHub Desktop"
      ],
      "metadata": {
        "id": "lzS4J-Mw9Oh_"
      }
    },
    {
      "cell_type": "markdown",
      "source": [
        "Hallo! Das ist ein Beispielsatz"
      ],
      "metadata": {
        "id": "mJc-iz0m-YKR"
      }
    },
    {
      "cell_type": "markdown",
      "source": [
        "Das ist der zweite Beispielsatz\n"
      ],
      "metadata": {
        "id": "ldBWJTLSebFC"
      }
    },
    {
      "cell_type": "code",
      "source": [
        "a = 3"
      ],
      "metadata": {
        "id": "QEBpwP0sgmsT"
      },
      "execution_count": null,
      "outputs": []
    }
  ]
}