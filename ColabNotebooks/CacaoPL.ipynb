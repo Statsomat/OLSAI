{
  "cells": [
    {
      "cell_type": "code",
      "execution_count": null,
      "metadata": {
        "id": "ZIilcQVl9Mqb"
      },
      "outputs": [],
      "source": []
    },
    {
      "cell_type": "markdown",
      "metadata": {
        "id": "lzS4J-Mw9Oh_"
      },
      "source": [
        "Testdatei für Jupyter Notebook und Verwendung von GitHub Desktop"
      ]
    },
    {
      "cell_type": "markdown",
      "metadata": {
        "id": "mJc-iz0m-YKR"
      },
      "source": [
        "Hallo! Das ist ein Beispielsatz"
      ]
    },
    {
      "cell_type": "markdown",
      "metadata": {
        "id": "ldBWJTLSebFC"
      },
      "source": [
        "Das ist der zweite Beispielsatz\n"
      ]
    },
    {
      "cell_type": "code",
      "execution_count": 1,
      "metadata": {
        "id": "QEBpwP0sgmsT"
      },
      "outputs": [],
      "source": [
        "a = 3"
      ]
    },
    {
      "cell_type": "markdown",
      "metadata": {},
      "source": [
        "**Beispielüberschrift**"
      ]
    },
    {
      "cell_type": "markdown",
      "metadata": {},
      "source": [
        "Beispielabschnitt: Beispieltext"
      ]
    }
  ],
  "metadata": {
    "colab": {
      "provenance": []
    },
    "kernelspec": {
      "display_name": "Python 3",
      "name": "python3"
    },
    "language_info": {
      "codemirror_mode": {
        "name": "ipython",
        "version": 3
      },
      "file_extension": ".py",
      "mimetype": "text/x-python",
      "name": "python",
      "nbconvert_exporter": "python",
      "pygments_lexer": "ipython3",
      "version": "3.10.11"
    }
  },
  "nbformat": 4,
  "nbformat_minor": 0
}
